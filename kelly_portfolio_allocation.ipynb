{
 "cells": [
  {
   "cell_type": "markdown",
   "id": "5568502e",
   "metadata": {},
   "source": [
    "# 凯利公式 —— 投资组合、风险管理、资金分配\n",
    "\n",
    "基本公式参考 [凯利公式——单个标的+无风险产品](./kelly_optimal_leverage.ipynb)\n",
    "\n",
    "## 投资组合公式\n",
    "\n",
    "C 是标的收益协方差矩阵，M是标的平均收益向量。\n",
    "\n",
    "- $F^* = C^{-1}M$\n",
    "- $g(F^*) = r + \\displaystyle\\frac{1}{2} \\cdot {{F^*}^T C {F^*}}$\n",
    "- $S = \\sqrt{{F^*}^T C {F^*}}$，即 sharpe ratio"
   ]
  },
  {
   "cell_type": "markdown",
   "id": "d29f5f21",
   "metadata": {},
   "source": [
    "# A股主要ETF标的测试\n",
    "\n",
    "**注意：代码中假定 ETF可以做空，实际A股融券很难，可考虑股指期货。**"
   ]
  },
  {
   "cell_type": "code",
   "execution_count": 1,
   "id": "694b10f2",
   "metadata": {},
   "outputs": [],
   "source": [
    "import pandas as pd\n",
    "import numpy as np\n",
    "import scipy as sp\n",
    "import matplotlib.pyplot as plt\n",
    "import matplotlib.ticker as ticker\n",
    "import logging\n",
    "import log_setup\n",
    "import helper\n",
    "import pprint\n",
    "log_setup.setup()"
   ]
  },
  {
   "cell_type": "code",
   "execution_count": 2,
   "id": "b575ff7e",
   "metadata": {},
   "outputs": [
    {
     "name": "stdout",
     "output_type": "stream",
     "text": [
      "{'159601.SZ': 'A50ETF',\n",
      " '159781.SZ': '双创50ETF',\n",
      " '159915.SZ': '创业板ETF',\n",
      " '159949.SZ': '创业板50ETF',\n",
      " '510050.SH': '上证50ETF',\n",
      " '510300.SH': '沪深300ETF',\n",
      " '510500.SH': '中证500ETF',\n",
      " '518880.SH': '黄金ETF',\n",
      " '588000.SH': '科创50ETF'}\n"
     ]
    }
   ],
   "source": [
    "code2name = helper.datafiles_info()\n",
    "pprint.pprint(code2name)"
   ]
  },
  {
   "cell_type": "markdown",
   "id": "28aab354",
   "metadata": {},
   "source": [
    "以下计算使用 <font color=red>无风险利率 $r = 0.02$</font>，选取相关性不是特别高的标的。"
   ]
  },
  {
   "cell_type": "code",
   "execution_count": 3,
   "id": "021ba5c2",
   "metadata": {},
   "outputs": [],
   "source": [
    "k_annual_risk_free_rate = 0.02 # 假设无风险利率年化为 2%\n",
    "k_days_per_year = 252"
   ]
  },
  {
   "cell_type": "code",
   "execution_count": 4,
   "id": "89acb5f8",
   "metadata": {},
   "outputs": [],
   "source": [
    "def portfolio_allocation(annual_risk_free=k_annual_risk_free_rate):\n",
    "    annual_risk_free = k_annual_risk_free_rate\n",
    "    logging.info('annual_risk_free_rate: {:.4f}'.format(annual_risk_free))\n",
    "\n",
    "    buffer = []\n",
    "    for file in [\n",
    "                 #'./datafiles/159601.SZ_2021-11-08_2023-04-25.xlsx',\n",
    "                 #'./datafiles/159781.SZ_2021-07-05_2023-04-25.xlsx',\n",
    "                 './datafiles/159915.SZ_2011-12-09_2023-04-25.xlsx',\n",
    "                 #'./datafiles/159949.SZ_2016-07-22_2023-04-25.xlsx',\n",
    "                 #'./datafiles/510050.SH_2005-02-23_2023-04-25.xlsx',\n",
    "                 './datafiles/510300.SH_2012-05-28_2023-04-25.xlsx',\n",
    "                 './datafiles/510500.SH_2013-03-15_2023-04-25.xlsx',\n",
    "                 './datafiles/518880.SH_2013-07-29_2023-04-25.xlsx',\n",
    "                 #'./datafiles/588000.SH_2020-11-16_2023-04-25.xlsx',\n",
    "                ]:\n",
    "        last_slash = file.rfind('/')\n",
    "        underscore = file.find('_', last_slash)\n",
    "        code = file[last_slash+1:underscore]\n",
    "        name = code2name[code]\n",
    "        df   = pd.read_excel(file, header=0, index_col=0)\n",
    "        logging.info('{} {} shape {}'.format(code, name, df.shape))\n",
    "        buffer.append([code, name, df.close])\n",
    "\n",
    "    data = [item[-1] for item in buffer]\n",
    "    keys = [item[0] for item in buffer]\n",
    "    df = pd.concat(data, axis=1, keys=keys)\n",
    "    df.dropna(axis=0, inplace=True)\n",
    "\n",
    "    logging.info('all data shape: {}'.format(df.shape))\n",
    "\n",
    "    daily_return         = df.pct_change()\n",
    "    daily_excess_return  = daily_return - annual_risk_free / k_days_per_year\n",
    "    annual_excess_return = daily_excess_return.mean(axis=0) * k_days_per_year # M\n",
    "\n",
    "    # same as\n",
    "    # np.cov(daily_excess_return.values, rowvar=False))\n",
    "    cov_mat = daily_excess_return.cov() * k_days_per_year # C\n",
    "\n",
    "    if 1:\n",
    "        # F, vector\n",
    "        fractions    = np.dot(np.linalg.inv(cov_mat), annual_excess_return)\n",
    "        temp_value   = np.dot(fractions.T, np.dot(cov_mat, fractions))\n",
    "        # g, scalar\n",
    "        growth_rate  = annual_risk_free + 0.5 * temp_value\n",
    "        # S, scalar\n",
    "        sharpe_ratio = np.sqrt(temp_value)\n",
    "    else:\n",
    "        fractions    = np.matmul(np.linalg.inv(cov_mat), annual_excess_return.values.reshape(-1,1))\n",
    "        ft_c_f       = np.matmul(np.matmul(fractions.T, cov_mat), fractions)\n",
    "        growth_rate  = annual_risk_free + ft_c_f / 2\n",
    "        sharpe_ratio = np.sqrt(ft_c_f)\n",
    "\n",
    "    return fractions, growth_rate, sharpe_ratio"
   ]
  },
  {
   "cell_type": "code",
   "execution_count": 5,
   "id": "2da83f95",
   "metadata": {},
   "outputs": [
    {
     "name": "stderr",
     "output_type": "stream",
     "text": [
      "[2023-04-26 17:18:27,714] [INFO]\t[4263025479.py:3:portfolio_allocation] annual_risk_free_rate: 0.0200\n",
      "[2023-04-26 17:18:28,684] [INFO]\t[4263025479.py:22:portfolio_allocation] 159915.SZ 创业板ETF shape (2763, 7)\n",
      "[2023-04-26 17:18:29,035] [INFO]\t[4263025479.py:22:portfolio_allocation] 510300.SH 沪深300ETF shape (2655, 7)\n",
      "[2023-04-26 17:18:29,359] [INFO]\t[4263025479.py:22:portfolio_allocation] 510500.SH 中证500ETF shape (2459, 7)\n",
      "[2023-04-26 17:18:29,647] [INFO]\t[4263025479.py:22:portfolio_allocation] 518880.SH 黄金ETF shape (2372, 7)\n",
      "[2023-04-26 17:18:29,648] [INFO]\t[4263025479.py:30:portfolio_allocation] all data shape: (2370, 4)\n"
     ]
    },
    {
     "name": "stdout",
     "output_type": "stream",
     "text": [
      "kelly fractions: [0.281326, 1.059195, 0.182342, 2.375238]\n",
      "CAGR: 0.138077\n",
      "sharpe ratio: 0.485957\n"
     ]
    }
   ],
   "source": [
    "kelly_leverage, comp_ann_growth_rate, sharpe_ratio = portfolio_allocation()\n",
    "print('kelly fractions: [{}]\\nCAGR: {:.6f}\\nsharpe ratio: {:.6f}'.format(\n",
    "    ', '.join([ '{:.6f}'.format(l) for l in kelly_leverage ]),\n",
    "    comp_ann_growth_rate,\n",
    "    sharpe_ratio))\n"
   ]
  }
 ],
 "metadata": {
  "kernelspec": {
   "display_name": "Python 3 (ipykernel)",
   "language": "python",
   "name": "python3"
  },
  "language_info": {
   "codemirror_mode": {
    "name": "ipython",
    "version": 3
   },
   "file_extension": ".py",
   "mimetype": "text/x-python",
   "name": "python",
   "nbconvert_exporter": "python",
   "pygments_lexer": "ipython3",
   "version": "3.9.16"
  }
 },
 "nbformat": 4,
 "nbformat_minor": 5
}
